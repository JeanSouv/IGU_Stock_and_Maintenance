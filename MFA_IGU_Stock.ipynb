{
 "cells": [
  {
   "cell_type": "code",
   "execution_count": 1,
   "metadata": {},
   "outputs": [],
   "source": [
    "import os\n",
    "import re\n",
    "import sys\n",
    "\n",
    "import pathlib\n",
    "from pathlib import Path\n",
    "\n",
    "import sqlite3\n",
    "\n",
    "import pandas as pd\n",
    "import numpy as np\n",
    "\n",
    "from scipy import stats\n",
    "\n",
    "import math\n",
    "\n",
    "import matplotlib as mpl\n",
    "import matplotlib.pyplot as plt\n",
    "\n",
    "import seaborn as sns\n",
    "\n",
    "from IPython.display import display\n",
    "\n",
    "from copy import deepcopy\n",
    "import logging as log\n",
    "\n",
    "import pickle\n",
    "import xlrd\n",
    "import xlwt\n",
    "import pylab"
   ]
  },
  {
   "cell_type": "code",
   "execution_count": 2,
   "metadata": {},
   "outputs": [],
   "source": [
    "# Helper (support)\n",
    "from support import input_helper"
   ]
  },
  {
   "cell_type": "code",
   "execution_count": 3,
   "metadata": {},
   "outputs": [
    {
     "name": "stdout",
     "output_type": "stream",
     "text": [
      "Images will be saved in C:\\Users\\souvi\\Documents\\These\\80_Calculations\\03_MFA_IGU_Stock\\outputs\\IMG\n"
     ]
    }
   ],
   "source": [
    "# Directory with IGU datasets:\n",
    "ROOT_DIR = \"RawData\"\n",
    "\n",
    "# Specify path to dynamic stock model and to datafile, relative\n",
    "MainPath = os.path.join('odym', 'modules')\n",
    "DataPath = os.path.join('docs', 'files')\n",
    "sys.path.insert(0, MainPath)  # add ODYM module directory to system path\n",
    "\n",
    "# add ODYM module directory to system path, absolute\n",
    "sys.path.insert(0, os.path.join(os.getcwd(), 'odym', 'modules'))\n",
    "sys.path.insert(0, os.path.join(os.getcwd(), 'docs', 'files'))\n",
    "\n",
    "# Define path to save figures:\n",
    "path_img = os.path.abspath(os.path.join('outputs', 'IMG'))\n",
    "if not os.path.exists(path_img):\n",
    "    os.makedirs(path_img)\n",
    "print(f'Images will be saved in {path_img}')"
   ]
  },
  {
   "cell_type": "code",
   "execution_count": 4,
   "metadata": {},
   "outputs": [],
   "source": [
    "import ODYM_Classes as msc  # import the ODYM class file\n",
    "import ODYM_Functions as msf  # import the ODYM function file\n",
    "import dynamic_stock_model as dsm  # import the dynamic stock model library"
   ]
  },
  {
   "cell_type": "code",
   "execution_count": 5,
   "metadata": {},
   "outputs": [],
   "source": [
    "# Define size of figure:\n",
    "mpl.rcParams['figure.figsize'] = (16, 10)"
   ]
  },
  {
   "cell_type": "code",
   "execution_count": 6,
   "metadata": {},
   "outputs": [],
   "source": [
    "# Define seaborn main parameters:\n",
    "sns.set_style(\"ticks\")\n",
    "sns.color_palette(\"colorblind\")\n",
    "sns.set_context(\"paper\", font_scale=1.5,\n",
    "                rc={\"axes.titlesize\": 15, \"lines.linewidth\": 1.2,\n",
    "                    \"legend.fontsize\": 10, \"legend.title_fontsize\": 10})"
   ]
  },
  {
   "cell_type": "code",
   "execution_count": 7,
   "metadata": {},
   "outputs": [],
   "source": [
    "pd.set_option('precision', 2)"
   ]
  },
  {
   "cell_type": "code",
   "execution_count": 8,
   "metadata": {},
   "outputs": [],
   "source": [
    "# A custom formatter function which divide by 1000 an axis:\n",
    "import matplotlib.ticker as tkr\n",
    "\n",
    "\n",
    "def yfmt1000(x, pos):\n",
    "    s = f'{x/1000:,.0f}'\n",
    "    return s\n",
    "\n",
    "# W/ classes for tick-locating and -formatting:\n",
    "\n",
    "\n",
    "# A formatter function:\n",
    "y_1000 = tkr.FuncFormatter(yfmt1000)\n",
    "\n",
    "# To divide the y-axis by 1000 when needed:\n",
    "# ax.yaxis.set_major_formatter(y_1000)"
   ]
  },
  {
   "cell_type": "code",
   "execution_count": 9,
   "metadata": {},
   "outputs": [],
   "source": [
    "# A function used to define the thickness of x and y axis:\n",
    "def style_ax(ax):\n",
    "    for axis in ['top', 'bottom', 'left', 'right']:\n",
    "        ax.spines[axis].set_linewidth(0.5)\n",
    "        ax.tick_params(width=0.5)\n",
    "        ax.set_xlabel(None)\n",
    "    return ax"
   ]
  },
  {
   "cell_type": "code",
   "execution_count": 10,
   "metadata": {},
   "outputs": [],
   "source": [
    "# A keyword to export figures, or not:\n",
    "export = False"
   ]
  },
  {
   "cell_type": "markdown",
   "metadata": {},
   "source": [
    "# Upload Datasets"
   ]
  },
  {
   "cell_type": "code",
   "execution_count": 11,
   "metadata": {},
   "outputs": [],
   "source": [
    "# Belgian dataset:\n",
    "be_data = input_helper.get_data(\n",
    "    'BE_IGU_RawData_VPython.xlsx', directory=ROOT_DIR)\n",
    "\n",
    "# French dataset:\n",
    "fr_data = input_helper.get_data(\n",
    "    'FR_IGU_RawData_VPython.xlsx', directory=ROOT_DIR)\n",
    "\n",
    "# European dataset:\n",
    "eu_data = input_helper.get_data(\n",
    "    'eu_igu_RawData_VPython.xlsx', directory=ROOT_DIR)"
   ]
  },
  {
   "cell_type": "code",
   "execution_count": 12,
   "metadata": {},
   "outputs": [
    {
     "name": "stdout",
     "output_type": "stream",
     "text": [
      "be_data, sheet names = \n",
      " ['References', 'consumption', 'prod', 'import', 'export', 'thickness', 'Energy_Intensity', 'Population']\n",
      "\n",
      "fr_data, sheet names = \n",
      " ['References', 'consumption', 'prod', 'import', 'export', 'Population', 'thickness', 'RawMat_Intensity', 'Energy_Intensity', 'emissions']\n",
      "\n",
      "eu_data, sheet names = \n",
      " ['References', 'stock', 'prod', 'import', 'export', 'thickness', 'emissions', 'Energy_Intensity']\n",
      "\n"
     ]
    }
   ],
   "source": [
    "print(\"be_data, sheet names = \\n {}\\n\".format(be_data.sheet_names))\n",
    "print(\"fr_data, sheet names = \\n {}\\n\".format(fr_data.sheet_names))\n",
    "print(\"eu_data, sheet names = \\n {}\\n\".format(eu_data.sheet_names))"
   ]
  },
  {
   "cell_type": "markdown",
   "metadata": {},
   "source": [
    "# Flows of Insulating Glass Units in Europe"
   ]
  },
  {
   "cell_type": "markdown",
   "metadata": {},
   "source": [
    "See: Souviron J and A Stephan. (Forthcoming). \"A Retrospective Analysis of the Environmental Footprint of Insulating Glass Units in the European Union, France and Belgium since 1945\". _JIE_."
   ]
  },
  {
   "cell_type": "markdown",
   "metadata": {},
   "source": [
    "## Creating a Dataframe for the Flows of IGU"
   ]
  },
  {
   "cell_type": "code",
   "execution_count": 13,
   "metadata": {},
   "outputs": [],
   "source": [
    "# DataFrame relating to IGU production:\n",
    "df_eu_prod = eu_data.parse('prod').set_index(['Nbr of countries', 'year'])\n",
    "df_eu_imp = eu_data.parse('import').set_index(['Nbr of countries', 'year'])\n",
    "df_eu_exp = eu_data.parse('export').set_index(['Nbr of countries', 'year'])"
   ]
  },
  {
   "cell_type": "code",
   "execution_count": 14,
   "metadata": {},
   "outputs": [],
   "source": [
    "# Create a single dataframe for flows of IGU in the EU:\n",
    "df_eu = pd.concat([df_eu_prod['IGU, \"000 m²']/1000,\n",
    "                   df_eu_imp['IGU, \"000 m²']/1000,\n",
    "                   df_eu_exp['IGU, \"000 m²']/1000,\n",
    "                   ],\n",
    "                  axis=1, keys=[('Production', '[10^6 m²]'),\n",
    "                                ('Import', '[10^6 m²]'),\n",
    "                                ('Export', '[10^6 m²]')\n",
    "                                ],\n",
    "                  names=['Info', 'Unit']).stack(dropna=False)\n",
    "\n",
    "df_eu = df_eu.unstack()"
   ]
  },
  {
   "cell_type": "code",
   "execution_count": 15,
   "metadata": {},
   "outputs": [],
   "source": [
    "# DataFrame relating to IGU avrage thickness:\n",
    "df_eu_thick = eu_data.parse('thickness').set_index(\n",
    "    ['Nbr of countries', 'year'])\n",
    "\n",
    "# Linear interpolation according to available data:\n",
    "df_eu_thick = (df_eu_thick.interpolate(method=\"linear\", limit_area='inside'))"
   ]
  },
  {
   "cell_type": "code",
   "execution_count": 18,
   "metadata": {},
   "outputs": [],
   "source": [
    "# Adding columns for IGU flows in [kt],\n",
    "# to be used later for material/energy/carbon intensity\n",
    "\n",
    "for level in ['average', 'min.', 'max.']:\n",
    "    for flow in ['Import', 'Export', 'Production']:\n",
    "        df_eu[(f'{flow}', f'[kt], {level}')] = (\n",
    "            df_eu[(f'{flow}', '[10^6 m²]')] *\n",
    "            df_eu_thick[f'{level} thickness, mm'] * 2.5)\n",
    "        \n",
    "df_eu = df_eu.sort_index(axis=1)"
   ]
  },
  {
   "cell_type": "markdown",
   "metadata": {},
   "source": [
    "## Consumption of Insulating Glass Units"
   ]
  },
  {
   "cell_type": "code",
   "execution_count": 19,
   "metadata": {
    "scrolled": false
   },
   "outputs": [],
   "source": [
    "# Estimate the consumption of IGU in the EU:\n",
    "df_eu = df_eu.stack(dropna=False)\n",
    "\n",
    "df_eu['Consumption'] = (df_eu['Production']\n",
    "                        + df_eu['Import']\n",
    "                        - df_eu['Export']\n",
    "                        )\n",
    "\n",
    "df_eu = df_eu.unstack()"
   ]
  },
  {
   "cell_type": "markdown",
   "metadata": {},
   "source": [
    "## Summary"
   ]
  },
  {
   "cell_type": "code",
   "execution_count": 28,
   "metadata": {},
   "outputs": [],
   "source": [
    "# Key dates for the changes in the MFA scope, i.e. EU enlargement:\n",
    "EU_KDATES = {'EU9': 1972, 'EU12': 1986,\n",
    "             'EU15': 1995, 'EU27': 2003, 'EU28': 2012}\n",
    "\n",
    "# Number of countries for trend curves:\n",
    "EU_COUNTRIES = [(6, 12), (15, 15), (27, 28)]"
   ]
  },
  {
   "cell_type": "markdown",
   "metadata": {},
   "source": [
    "Hypothesis for missing data: EU production = EU consumption"
   ]
  },
  {
   "cell_type": "code",
   "execution_count": 29,
   "metadata": {},
   "outputs": [],
   "source": [
    "df_eu = df_eu.stack(dropna=False)\n",
    "df_eu['Estimated consumption'] = (df_eu['Consumption']\n",
    "                                  .fillna(df_eu['Production']))\n",
    "\n",
    "df_eu = df_eu.unstack()"
   ]
  },
  {
   "cell_type": "code",
   "execution_count": 30,
   "metadata": {},
   "outputs": [
    {
     "data": {
      "image/png": "[encoded data removed]",
      "text/plain": [
       "<Figure size 1152x360 with 2 Axes>"
      ]
     },
     "metadata": {},
     "output_type": "display_data"
    }
   ],
   "source": [
    "# Plot two figures:\n",
    "fig, axes = plt.subplots(nrows=1, ncols=2,\n",
    "                         sharex=True, sharey=True,\n",
    "                         figsize=(16, 5))\n",
    "\n",
    "for col, data in enumerate(['Production', 'Estimated consumption']):\n",
    "    for i, j in EU_COUNTRIES:\n",
    "        ax = axes[col]\n",
    "        # Plot the trend curve for IGU production:\n",
    "        ax.plot(df_eu.interpolate().rolling(3, center=True).mean().loc[i:j]\n",
    "                .reset_index(level='Nbr of countries')\n",
    "                .sort_values(by=['year'])\n",
    "                [(f\"{data}\", \"[10^6 m²]\")],\n",
    "                c='black', linestyle='--')\n",
    "\n",
    "        if col == 0:\n",
    "            # Plot data gathered from literature review:\n",
    "            sns.scatterplot(data=df_eu[\"Production\"].reset_index(),\n",
    "                            x='year', y=\"[10^6 m²]\",\n",
    "                            hue='Nbr of countries',\n",
    "                            palette='colorblind',\n",
    "                            marker='.', s=100,\n",
    "                            ax=ax)\n",
    "        else:\n",
    "            # Plot data gathered from literature review:\n",
    "            sns.scatterplot(data=df_eu[\"Consumption\"].reset_index(),\n",
    "                            x='year', y=\"[10^6 m²]\",\n",
    "                            hue='Nbr of countries',\n",
    "                            palette='colorblind',\n",
    "                            marker='.', s=100,\n",
    "                            ax=ax)\n",
    "\n",
    "        # Plot lines highlighting changes in the scope, i.e., EU enlargement:\n",
    "        for y, x in EU_KDATES.items():\n",
    "            ax.axvline(x=x, c='grey', linestyle=':', linewidth=0.75)\n",
    "            ax.text(x+0.5, 180, f\"{y}\", fontsize=14,\n",
    "                    verticalalignment='top')\n",
    "\n",
    "        ax.get_legend().remove()\n",
    "        ax.set_title(f'{data} [10^6 m²]', pad=30, loc='left')\n",
    "        ax.yaxis.label.set_visible(False)\n",
    "\n",
    "style_ax(ax)\n",
    "ax.set_xlim(1950, 2020)\n",
    "ax.set_ylim(0, 180)\n",
    "\n",
    "plt.suptitle('European production and consumption of IGU',\n",
    "             weight='light', y=1.2)\n",
    "\n",
    "fig.subplots_adjust(wspace=0.15)\n",
    "\n",
    "sns.despine(offset=10)\n",
    "plt.show()\n",
    "\n",
    "if export:\n",
    "    # Save image:\n",
    "    fig.savefig(os.path.join(path_img, 'Fig2_EU_IGUProdConso.png'),\n",
    "                dpi=600, bbox_inches='tight')\n",
    "    fig.savefig(os.path.join(path_img, 'Fig2_EU_IGUProdConso.pdf'),\n",
    "                bbox_inches='tight')"
   ]
  },
  {
   "cell_type": "markdown",
   "metadata": {},
   "source": [
    "# Flows of Insulating Glass Units in France and Belgium"
   ]
  },
  {
   "cell_type": "markdown",
   "metadata": {},
   "source": [
    "See: Souviron J and A Stephan. (Forthcoming). \"A Retrospective Analysis of the Environmental Footprint of Insulating Glass Units in the European Union, France and Belgium since 1945\". _JIE_."
   ]
  },
  {
   "cell_type": "markdown",
   "metadata": {},
   "source": [
    "## Creating a Dataframe for the Flows of IGUs"
   ]
  },
  {
   "cell_type": "code",
   "execution_count": 31,
   "metadata": {},
   "outputs": [],
   "source": [
    "# Create a DataFrame from production datasets:\n",
    "df_fr_prod = fr_data.parse('prod').set_index('year')\n",
    "df_be_prod = be_data.parse('prod').set_index('year')\n",
    "\n",
    "# Create DataFrames from import and export datasets:\n",
    "df_fr_imp = fr_data.parse('import').set_index('year')\n",
    "df_fr_exp = fr_data.parse('export').set_index('year')\n",
    "\n",
    "df_be_imp = be_data.parse('import').set_index('year')\n",
    "df_be_exp = be_data.parse('export').set_index('year')\n",
    "\n",
    "# Create a DataFrame for the average thickness:\n",
    "df_fr_thick = fr_data.parse('thickness').set_index('year')\n",
    "df_be_thick = be_data.parse('thickness').set_index('year')\n",
    "\n",
    "# Create a DataFrame from consumption data, Belgium only:\n",
    "df_fr_use = fr_data.parse('consumption').set_index('year')\n",
    "df_be_use = be_data.parse('consumption').set_index('year')"
   ]
  },
  {
   "cell_type": "code",
   "execution_count": 32,
   "metadata": {},
   "outputs": [],
   "source": [
    "# Create a new DataFrame for Belgian and French IGU flows:\n",
    "df_be_fr = (\n",
    "    pd.concat([df_fr_use['IGU, \"000 m²']/1000,\n",
    "               df_fr_prod['IGU, \"000 m²']/1000,\n",
    "               df_fr_imp['IGU, \"000 m²']/1000,\n",
    "               df_fr_exp['IGU, \"000 m²']/1000,\n",
    "               df_be_use['IGU, kt'],\n",
    "               df_be_use['IGU, \"000 m²']/1000,\n",
    "               df_be_prod['IGU, kt'],\n",
    "               df_be_prod['IGU, \"000 m²']/1000,\n",
    "               df_be_imp['IGU, kt'],\n",
    "               df_be_imp['IGU, \"000 m²']/1000,\n",
    "               df_be_exp['IGU, kt'],\n",
    "               df_be_exp['IGU, \"000 m²']/1000],\n",
    "              axis=1,\n",
    "              keys=[('Consumption', '[10^6 m²]', 'France'),\n",
    "                    ('Production', '[10^6 m²]', 'France'),\n",
    "                    ('Import', '[10^6 m²]', 'France'),\n",
    "                    ('Export', '[10^6 m²]', 'France'),\n",
    "                    ('Consumption', '[kt]', 'Belgium'),\n",
    "                    ('Consumption', '[10^6 m²]', 'Belgium'),\n",
    "                    ('Production', '[kt]', 'Belgium'),\n",
    "                    ('Production', '[10^6 m²]', 'Belgium'),\n",
    "                    ('Import', '[kt]', 'Belgium'),\n",
    "                    ('Import', '[10^6 m²]', 'Belgium'),\n",
    "                    ('Export', '[kt]', 'Belgium'),\n",
    "                    ('Export', '[10^6 m²]', 'Belgium')],\n",
    "              names=['Info', 'Unit', 'Country'])).stack(level=- 1,\n",
    "                                                        dropna=False)\n",
    "\n",
    "df_be_fr = df_be_fr.unstack()"
   ]
  },
  {
   "cell_type": "code",
   "execution_count": 33,
   "metadata": {},
   "outputs": [],
   "source": [
    "# Create a DataFrame for the evolution of the population:\n",
    "fr_pop = fr_data.parse('Population').set_index('year')\n",
    "be_pop = be_data.parse('Population').set_index('year')\n",
    "\n",
    "# Create a unique DataFrame for French and Belgian population:\n",
    "df_be_fr_pop = pd.concat([fr_pop['Population, x1000'],\n",
    "                       be_pop['Population, x1000']],\n",
    "                      axis=1, keys=[('Population [x1000]', 'France'),\n",
    "                                    ('Population [x1000]', 'Belgium')],\n",
    "                      names=['Info', 'Country']).stack()\n",
    "\n",
    "df_be_fr_pop = df_be_fr_pop.unstack()"
   ]
  },
  {
   "cell_type": "markdown",
   "metadata": {},
   "source": [
    "## Average glass thickness of IGUs"
   ]
  },
  {
   "cell_type": "code",
   "execution_count": 34,
   "metadata": {},
   "outputs": [],
   "source": [
    "# Create a new DataFrame for average thickness, BE and FR:\n",
    "df_be_fr_thick = (\n",
    "    pd.concat([df_fr_thick['average thickness, mm'],\n",
    "               df_be_thick['average thickness, mm'], ],\n",
    "              axis=1,\n",
    "              keys=[('average thickness, mm', 'France'),\n",
    "                    ('average thickness, mm', 'Belgium')],\n",
    "              names=['Info', 'Country'])).stack(dropna=False)\n",
    "\n",
    "df_be_fr_thick = df_be_fr_thick.unstack()"
   ]
  },
  {
   "cell_type": "code",
   "execution_count": 35,
   "metadata": {},
   "outputs": [],
   "source": [
    "# Linear interpolation for the average thickness:\n",
    "df_be_fr_thick = df_be_fr_thick.interpolate(method='linear',\n",
    "                                            limit_area='inside')"
   ]
  },
  {
   "cell_type": "markdown",
   "metadata": {},
   "source": [
    "## Post-Processing the flows of IGUs"
   ]
  },
  {
   "cell_type": "markdown",
   "metadata": {},
   "source": [
    "Estimation of missing date:\n",
    "- Production = consumption + export - import\n",
    "\n",
    "- Consumption = production + import - export"
   ]
  },
  {
   "cell_type": "code",
   "execution_count": 36,
   "metadata": {},
   "outputs": [],
   "source": [
    "# Estimation of missing data according to units available:\n",
    "# Production:\n",
    "df_be_fr['Production'] = (\n",
    "    df_be_fr['Production'].fillna(\n",
    "        df_be_fr['Consumption']+df_be_fr['Export']-df_be_fr['Import']))\n",
    "\n",
    "# Consumption:\n",
    "df_be_fr['Consumption'] = (\n",
    "    df_be_fr['Consumption'].fillna(\n",
    "        df_be_fr['Production'] + df_be_fr['Import']-df_be_fr['Export']))\n",
    "\n",
    "df_be_fr = df_be_fr.sort_index(axis=1)"
   ]
  },
  {
   "cell_type": "code",
   "execution_count": 37,
   "metadata": {},
   "outputs": [],
   "source": [
    "# Stock raw data in a new Dataframe:\n",
    "df_be_fr_init = df_be_fr"
   ]
  },
  {
   "cell_type": "markdown",
   "metadata": {},
   "source": [
    "For Belgium, the data is either in m², tonnes or both. To \"harmonise\" the time series, the missing values are estimated from the average thickness of glass per IGU:"
   ]
  },
  {
   "cell_type": "code",
   "execution_count": 38,
   "metadata": {},
   "outputs": [],
   "source": [
    "# Estimation of total flows per m² according to values in kt:\n",
    "for flow in ['Consumption', 'Production', 'Export', 'Import']:\n",
    "    # Conditions for calculating missing data according to units available:\n",
    "    has_kt = df_be_fr[(f'{flow}', '[kt]', 'Belgium')].notna()\n",
    "    has_m2 = df_be_fr[(f'{flow}', '[10^6 m²]', 'Belgium')].notna()\n",
    "\n",
    "    # Calculating missing values flows according to thickness:\n",
    "    df_be_fr.loc[has_kt & ~has_m2, (\n",
    "        f'{flow}', '[10^6 m²]', 'Belgium')] = (\n",
    "        df_be_fr.loc[has_kt & ~has_m2, (\n",
    "            f'{flow}', '[kt]', 'Belgium')]\n",
    "        / df_be_fr_thick[('average thickness, mm', 'Belgium')] / 2.5)"
   ]
  },
  {
   "cell_type": "code",
   "execution_count": 39,
   "metadata": {},
   "outputs": [],
   "source": [
    "# Estimation of total flows per kt according to values in m²:\n",
    "for flow in ['Consumption', 'Production', 'Export', 'Import']:\n",
    "    # Conditions for calculating missing data according to units available:\n",
    "    has_kt = df_be_fr[(f'{flow}', '[kt]', 'Belgium')].notna()\n",
    "    has_m2 = df_be_fr[(f'{flow}', '[10^6 m²]', 'Belgium')].notna()\n",
    "\n",
    "    # Calculating flows if missing according to thickness:\n",
    "    df_be_fr.loc[has_m2 & ~has_kt, (\n",
    "        f'{flow}', '[kt]', 'Belgium')] = (\n",
    "        df_be_fr.loc[has_m2 & ~has_kt, (\n",
    "            f'{flow}', '[10^6 m²]', 'Belgium')]\n",
    "        * df_be_fr_thick[('average thickness, mm', 'Belgium')] * 2.5)"
   ]
  },
  {
   "cell_type": "code",
   "execution_count": 40,
   "metadata": {},
   "outputs": [],
   "source": [
    "# Estimation of missing data according to units available:\n",
    "# Production:\n",
    "df_be_fr['Production'] = (\n",
    "    df_be_fr['Production'].fillna(\n",
    "        df_be_fr['Consumption']+df_be_fr['Export']-df_be_fr['Import']))\n",
    "\n",
    "# Consumption:\n",
    "df_be_fr['Consumption'] = (\n",
    "    df_be_fr['Consumption'].fillna(\n",
    "        df_be_fr['Production'] + df_be_fr['Import']-df_be_fr['Export']))\n",
    "\n",
    "df_be_fr = df_be_fr.sort_index(axis=1)"
   ]
  },
  {
   "cell_type": "markdown",
   "metadata": {},
   "source": [
    "Weighing the flows of IGUs, France (i.e. from Mm² to kt):"
   ]
  },
  {
   "cell_type": "code",
   "execution_count": 41,
   "metadata": {},
   "outputs": [],
   "source": [
    "# Estimating total weight of the flows of IGUs [kt], France (raw data in m²)\n",
    "# to be used later for material/energy/carbon intensity\n",
    "for flow in ['Consumption', 'Import', 'Export', 'Production']:\n",
    "    df_be_fr[(f'{flow}', '[kt]', 'France')] = (\n",
    "        df_be_fr[(f'{flow}', '[10^6 m²]', 'France')]\n",
    "        * df_be_fr_thick[('average thickness, mm', 'France')] * 2.5)"
   ]
  },
  {
   "cell_type": "markdown",
   "metadata": {},
   "source": [
    "## Consumption of IGU"
   ]
  },
  {
   "cell_type": "markdown",
   "metadata": {},
   "source": [
    "Given the scarcity of data on the consumption of insulating glass units in France, and considering the low level of exports and imports over the study period, we assume that the production is roughly equivalent to the consumption when data is missing. Please refer to the article for a detailed discussion of this hypothesis."
   ]
  },
  {
   "cell_type": "code",
   "execution_count": 43,
   "metadata": {},
   "outputs": [],
   "source": [
    "# Estimation of missing data relating to the consumption of IGU:\n",
    "for unit in ['[kt]', '[10^6 m²]']:\n",
    "    df_be_fr['Consumption', unit, 'France'] = (\n",
    "        df_be_fr['Consumption', unit, 'France'].fillna(\n",
    "            df_be_fr['Production', unit, 'France']))"
   ]
  },
  {
   "cell_type": "markdown",
   "metadata": {},
   "source": [
    "Estimation of the consumption of IGU per capita in BE and FR:"
   ]
  },
  {
   "cell_type": "code",
   "execution_count": 45,
   "metadata": {},
   "outputs": [],
   "source": [
    "countries = ['Belgium', 'France']"
   ]
  },
  {
   "cell_type": "code",
   "execution_count": 46,
   "metadata": {},
   "outputs": [],
   "source": [
    "# Estimating the IGU consumption per capita\n",
    "for country in countries:\n",
    "    df_be_fr[('Consumption', '[m²/cap]', country)] = (\n",
    "        df_be_fr[('Consumption', '[10^6 m²]', country)]\n",
    "        .interpolate(method='pchip', limit_area=\"inside\")*1000\n",
    "        / df_be_fr_pop[('Population [x1000]', country)]\n",
    "        .interpolate(method='pchip', limit_area=\"inside\"))\n",
    "\n",
    "df_be_fr = df_be_fr.sort_index(axis=1)"
   ]
  },
  {
   "cell_type": "code",
   "execution_count": 47,
   "metadata": {},
   "outputs": [],
   "source": [
    "df_be_fr = df_be_fr.drop('[m²/cap]', axis=1, level=1)"
   ]
  },
  {
   "cell_type": "markdown",
   "metadata": {},
   "source": [
    "## Summary"
   ]
  },
  {
   "cell_type": "code",
   "execution_count": 48,
   "metadata": {},
   "outputs": [
    {
     "data": {
      "text/html": [
       "<div>\n",
       "<style scoped>\n",
       "    .dataframe tbody tr th:only-of-type {\n",
       "        vertical-align: middle;\n",
       "    }\n",
       "\n",
       "    .dataframe tbody tr th {\n",
       "        vertical-align: top;\n",
       "    }\n",
       "\n",
       "    .dataframe thead tr th {\n",
       "        text-align: left;\n",
       "    }\n",
       "</style>\n",
       "<table border=\"1\" class=\"dataframe\">\n",
       "  <thead>\n",
       "    <tr>\n",
       "      <th>Unit</th>\n",
       "      <th colspan=\"2\" halign=\"left\">[10^6 m²]</th>\n",
       "      <th colspan=\"2\" halign=\"left\">[kt]</th>\n",
       "    </tr>\n",
       "    <tr>\n",
       "      <th>Country</th>\n",
       "      <th>Belgium</th>\n",
       "      <th>France</th>\n",
       "      <th>Belgium</th>\n",
       "      <th>France</th>\n",
       "    </tr>\n",
       "  </thead>\n",
       "  <tbody>\n",
       "    <tr>\n",
       "      <th>count</th>\n",
       "      <td>38.00</td>\n",
       "      <td>49.00</td>\n",
       "      <td>37.00</td>\n",
       "      <td>48.00</td>\n",
       "    </tr>\n",
       "    <tr>\n",
       "      <th>mean</th>\n",
       "      <td>2.99</td>\n",
       "      <td>10.11</td>\n",
       "      <td>81.52</td>\n",
       "      <td>243.50</td>\n",
       "    </tr>\n",
       "    <tr>\n",
       "      <th>std</th>\n",
       "      <td>1.54</td>\n",
       "      <td>5.63</td>\n",
       "      <td>42.44</td>\n",
       "      <td>137.02</td>\n",
       "    </tr>\n",
       "    <tr>\n",
       "      <th>min</th>\n",
       "      <td>0.00</td>\n",
       "      <td>0.00</td>\n",
       "      <td>1.02</td>\n",
       "      <td>1.29</td>\n",
       "    </tr>\n",
       "    <tr>\n",
       "      <th>25%</th>\n",
       "      <td>1.83</td>\n",
       "      <td>4.60</td>\n",
       "      <td>43.38</td>\n",
       "      <td>103.04</td>\n",
       "    </tr>\n",
       "    <tr>\n",
       "      <th>50%</th>\n",
       "      <td>3.67</td>\n",
       "      <td>9.56</td>\n",
       "      <td>100.01</td>\n",
       "      <td>222.67</td>\n",
       "    </tr>\n",
       "    <tr>\n",
       "      <th>75%</th>\n",
       "      <td>4.14</td>\n",
       "      <td>15.93</td>\n",
       "      <td>112.72</td>\n",
       "      <td>380.86</td>\n",
       "    </tr>\n",
       "    <tr>\n",
       "      <th>max</th>\n",
       "      <td>5.09</td>\n",
       "      <td>17.88</td>\n",
       "      <td>139.84</td>\n",
       "      <td>427.75</td>\n",
       "    </tr>\n",
       "  </tbody>\n",
       "</table>\n",
       "</div>"
      ],
      "text/plain": [
       "Unit    [10^6 m²]           [kt]        \n",
       "Country   Belgium France Belgium  France\n",
       "count       38.00  49.00   37.00   48.00\n",
       "mean         2.99  10.11   81.52  243.50\n",
       "std          1.54   5.63   42.44  137.02\n",
       "min          0.00   0.00    1.02    1.29\n",
       "25%          1.83   4.60   43.38  103.04\n",
       "50%          3.67   9.56  100.01  222.67\n",
       "75%          4.14  15.93  112.72  380.86\n",
       "max          5.09  17.88  139.84  427.75"
      ]
     },
     "execution_count": 48,
     "metadata": {},
     "output_type": "execute_result"
    }
   ],
   "source": [
    "df_be_fr['Consumption'].describe()"
   ]
  },
  {
   "cell_type": "code",
   "execution_count": 50,
   "metadata": {},
   "outputs": [
    {
     "data": {
      "image/png": "[encoded data removed]",
      "text/plain": [
       "<Figure size 1152x720 with 4 Axes>"
      ]
     },
     "metadata": {},
     "output_type": "display_data"
    }
   ],
   "source": [
    "# Plot total flows, moving average w/ a 3-y. window length:\n",
    "toplot = ['Production', 'Export', 'Import', 'Consumption']\n",
    "\n",
    "fig, axes = plt.subplots(nrows=2, ncols=2,\n",
    "                         sharex=True, sharey=True,\n",
    "                         figsize=(16, 10))\n",
    "\n",
    "for data in toplot:\n",
    "    if data == \"Production\":\n",
    "        ax = axes[0][0]\n",
    "    if data == \"Consumption\":\n",
    "        ax = axes[0][1]\n",
    "    if data == \"Export\":\n",
    "        ax = axes[1][0]\n",
    "    if data == \"Import\":\n",
    "        ax = axes[1][1]\n",
    "\n",
    "    for country in countries:\n",
    "        # Define the color and title for the subplots:\n",
    "        if country == 'Belgium':\n",
    "            color = 'firebrick'\n",
    "            ax.set_title(f\"{data}\", loc='left', pad=15)\n",
    "        else:\n",
    "            color = 'steelblue'\n",
    "\n",
    "        (df_be_fr[(data, \"[10^6 m²]\", country)]\n",
    "         .interpolate(method='pchip')\n",
    "         .rolling(3, center=True).mean()\n",
    "         .plot(ax=ax, c=color)\n",
    "         )\n",
    "\n",
    "        # Plot raw data:\n",
    "        sns.scatterplot(data=df_be_fr_init[data, \"[10^6 m²]\", country],\n",
    "                        marker='.', s=50, color=color,\n",
    "                        ax=ax)\n",
    "\n",
    "        ax.get_legend().remove()\n",
    "\n",
    "        ax.minorticks_off()\n",
    "        ax.grid(which='major', axis='y', linestyle=':', linewidth=1)\n",
    "        style_ax(ax)\n",
    "        ax.set_ylabel(None)\n",
    "\n",
    "        if row == 0:\n",
    "            ax.set_title(country, y=1.25)\n",
    "\n",
    "ax.set_xlim(1950, 2020)\n",
    "plt.xticks(np.arange(1950, 2021, 10))\n",
    "ax.set_ylim(0, 20)\n",
    "plt.yticks(np.arange(0, 21, 5))\n",
    "\n",
    "fig.subplots_adjust(wspace=0.15, hspace=0.5)\n",
    "\n",
    "# Add legend:\n",
    "handles, labels = ax.get_legend_handles_labels()\n",
    "fig.legend(handles, labels, loc='center', ncol=1,\n",
    "           title='Countries:',\n",
    "           bbox_to_anchor=(0.85, 0.4))  # (0.83, 0.98)\n",
    "\n",
    "fig.suptitle(\"Flows of IGU [million m²]\", y=1)\n",
    "sns.despine(offset=5)\n",
    "\n",
    "plt.show()"
   ]
  },
  {
   "cell_type": "markdown",
   "metadata": {},
   "source": [
    "# Dynamic Stock Modelling"
   ]
  },
  {
   "cell_type": "markdown",
   "metadata": {},
   "source": [
    "See: Pauliuk, Stefan, and Niko Heeren, 2019, \"ODYM—An open software framework for studying dynamic material systems: Principles, implementation, and data structures\", Journal of Industrial Ecology, 24:3, 446-458.\n",
    "\n",
    "ODYM is an open source community tool released under the MIT license and hosted on the following GitHub repository: https://github.com/indecol/odym"
   ]
  },
  {
   "cell_type": "markdown",
   "metadata": {},
   "source": [
    "## Define System"
   ]
  },
  {
   "cell_type": "code",
   "execution_count": null,
   "metadata": {},
   "outputs": [],
   "source": [
    "# Create dictionary of model classifications:\n",
    "ModelClassification = {}\n",
    "\n",
    "# Retrospective MFA from 1945 to 2020:\n",
    "MyYears = list(np.arange(1945, 2021))"
   ]
  },
  {
   "cell_type": "code",
   "execution_count": null,
   "metadata": {},
   "outputs": [],
   "source": [
    "# Classification for time labelled 'Time' must always be present,\n",
    "# with Items containing a list of odered integers representing years, months,\n",
    "# or other discrete time intervals:\n",
    "ModelClassification['Time'] = msc.Classification(Name='Time',\n",
    "                                                 Dimension='Time',\n",
    "                                                 ID=1, Items=MyYears)"
   ]
  },
  {
   "cell_type": "code",
   "execution_count": null,
   "metadata": {},
   "outputs": [],
   "source": [
    "# Classification for cohort is used to track age-cohorts in the stock:\n",
    "ModelClassification['Cohort'] = msc.Classification(Name='Age-cohort',\n",
    "                                                   Dimension='Time',\n",
    "                                                   ID=1, Items=MyYears)"
   ]
  },
  {
   "cell_type": "code",
   "execution_count": null,
   "metadata": {},
   "outputs": [],
   "source": [
    "# Classification for elements labelled 'Element':\n",
    "ModelClassification['Element'] = msc.Classification(Name='Elements',\n",
    "                                                    Dimension='Element',\n",
    "                                                    ID=2, Items=['IGU'])"
   ]
  },
  {
   "cell_type": "code",
   "execution_count": null,
   "metadata": {},
   "outputs": [],
   "source": [
    "# Classification for regions including Belgium, France and the EU:\n",
    "MyRegions = ['BE', 'FR', 'EU']\n",
    "\n",
    "ModelClassification['Region'] = msc.Classification(Name='Regions',\n",
    "                                                   Dimension='Region',\n",
    "                                                   ID=3, Items=MyRegions)"
   ]
  },
  {
   "cell_type": "code",
   "execution_count": null,
   "metadata": {},
   "outputs": [],
   "source": [
    "# Get model time start, end, and duration:\n",
    "Model_Time_Start = int(min(ModelClassification['Time'].Items))\n",
    "Model_Time_End = int(max(ModelClassification['Time'].Items))\n",
    "Model_Duration = Model_Time_End - Model_Time_Start"
   ]
  },
  {
   "cell_type": "code",
   "execution_count": null,
   "metadata": {},
   "outputs": [],
   "source": [
    "Model_Duration"
   ]
  },
  {
   "cell_type": "code",
   "execution_count": null,
   "metadata": {},
   "outputs": [],
   "source": [
    "# The indext table lists all aspects needed\n",
    "# and assigns a classification and index letter to each aspect:\n",
    "IndexTable = (\n",
    "    pd.DataFrame(\n",
    "        {'Aspect': ['Time', 'Age-cohort', 'Element', 'Region'],\n",
    "         'Description': ['Model aspect \"time\"',\n",
    "                         'Model aspect \"age-cohort\"',\n",
    "                         'Model aspect \"Element\"',\n",
    "                         'Model aspect \"Region where flow occurs\"'],\n",
    "         'Dimension': ['Time', 'Time', 'Element', 'Region'],\n",
    "         'Classification': ([ModelClassification[Aspect]\n",
    "                             for Aspect in ['Time', 'Cohort',\n",
    "                                            'Element', 'Region']]\n",
    "                            ),\n",
    "         'IndexLetter': ['t', 'c', 'e', 'r']\n",
    "         })\n",
    ")\n",
    "\n",
    "# Default indexing of IndexTable:\n",
    "IndexTable.set_index('Aspect', inplace=True)\n",
    "\n",
    "IndexTable"
   ]
  },
  {
   "cell_type": "code",
   "execution_count": null,
   "metadata": {},
   "outputs": [],
   "source": [
    "Dyn_MFA_System = msc.MFAsystem(Name='StockAccumulationSystem',\n",
    "                               Geogr_Scope='3SelectedRegions',\n",
    "                               Unit='10^6 m²',\n",
    "                               ProcessList=[],\n",
    "                               FlowDict={},\n",
    "                               StockDict={},\n",
    "                               ParameterDict={},\n",
    "                               Time_Start=Model_Time_Start,\n",
    "                               Time_End=Model_Time_End,\n",
    "                               IndexTable=IndexTable,\n",
    "                               # Initialize MFA system:\n",
    "                               Elements=(IndexTable.loc['Element']\n",
    "                                         .Classification.Items)\n",
    "                               )"
   ]
  },
  {
   "cell_type": "markdown",
   "metadata": {},
   "source": [
    "## Creating a DataFrame gathering EU, BE and FR IGU consumption flows"
   ]
  },
  {
   "cell_type": "markdown",
   "metadata": {},
   "source": [
    "<font color='red'>Dataframe for IGU consumption in [10^6 m²]:</font>"
   ]
  },
  {
   "cell_type": "code",
   "execution_count": null,
   "metadata": {},
   "outputs": [],
   "source": [
    "igu_use_m2 = (pd.DataFrame({'Year': list(np.arange(1945, 2021))})\n",
    "              .set_index('Year'))"
   ]
  },
  {
   "cell_type": "code",
   "execution_count": null,
   "metadata": {},
   "outputs": [],
   "source": [
    "igu_use_m2['EU'] = (eu_igu.droplevel(level=0)['Estimated consumption']\n",
    "                    .drop(axis=1, columns='[kt]').reset_index()\n",
    "                    .drop_duplicates(subset=['year'], keep='last')\n",
    "                    .set_index('year'))"
   ]
  },
  {
   "cell_type": "code",
   "execution_count": null,
   "metadata": {},
   "outputs": [],
   "source": [
    "igu_use_m2['BE'] = be_fr_igu[('Estimated consumption',\n",
    "                              '[10^6 m²]', 'Belgium')]"
   ]
  },
  {
   "cell_type": "code",
   "execution_count": null,
   "metadata": {},
   "outputs": [],
   "source": [
    "igu_use_m2['FR'] = be_fr_igu[('Estimated consumption',\n",
    "                              '[10^6 m²]', 'France')]"
   ]
  },
  {
   "cell_type": "code",
   "execution_count": null,
   "metadata": {},
   "outputs": [],
   "source": [
    "igu_use_m2['Unit'] = '[10^6 m²]'"
   ]
  },
  {
   "cell_type": "markdown",
   "metadata": {},
   "source": [
    "## Formatting Data"
   ]
  },
  {
   "cell_type": "code",
   "execution_count": null,
   "metadata": {},
   "outputs": [],
   "source": [
    "# Lifetimes:\n",
    "LifetimeFile = xlrd.open_workbook(\n",
    "    os.path.join(ROOT_DIR, 'IGU_Lifetime_EU_BE_FR.xlsx'))\n",
    "\n",
    "Datasheet = LifetimeFile.sheet_by_name('Average_Lifetime')\n",
    "\n",
    "Lifetimes = []\n",
    "\n",
    "# Add lifetime values to list\n",
    "for m in range(1, 4):\n",
    "    Lifetimes.append(Datasheet.cell_value(m, 1))\n",
    "print(Lifetimes)"
   ]
  },
  {
   "cell_type": "code",
   "execution_count": null,
   "metadata": {},
   "outputs": [],
   "source": [
    "# OriginRegion x DestinationRegion x Year:\n",
    "InflowArray = np.zeros((len(MyRegions), len(MyYears)))\n",
    "print(InflowArray.shape)"
   ]
  },
  {
   "cell_type": "code",
   "execution_count": null,
   "metadata": {},
   "outputs": [],
   "source": [
    "igu_use_m2.iloc[0] = 0\n",
    "igu_use_m2.interpolate()[:15]"
   ]
  },
  {
   "cell_type": "code",
   "execution_count": null,
   "metadata": {},
   "outputs": [],
   "source": [
    "# Assign the flow values to the countries:\n",
    "for region in MyRegions:\n",
    "    for i in igu_use_m2.index:\n",
    "        OriginCountryPosition = MyRegions.index(region)\n",
    "        YearPosition = MyYears.index(i)\n",
    "        InflowArray[OriginCountryPosition,\n",
    "                    YearPosition] = igu_use_m2[f'{region}'].interpolate().loc[i]"
   ]
  },
  {
   "cell_type": "code",
   "execution_count": null,
   "metadata": {},
   "outputs": [],
   "source": [
    "InflowArray[0, 50]"
   ]
  },
  {
   "cell_type": "markdown",
   "metadata": {},
   "source": [
    " ## Inserting data into the MFA system"
   ]
  },
  {
   "cell_type": "code",
   "execution_count": null,
   "metadata": {},
   "outputs": [],
   "source": [
    "# Start with empty process list,\n",
    "# only process numbers (IDs) and names are needed.\n",
    "Dyn_MFA_System.ProcessList = []\n",
    "Dyn_MFA_System.ProcessList.append(msc.Process(Name='Other_industries', ID=0))\n",
    "Dyn_MFA_System.ProcessList.append(msc.Process(Name='Use phase', ID=1))\n",
    "\n",
    "# Print list of processes:\n",
    "Dyn_MFA_System.ProcessList"
   ]
  },
  {
   "cell_type": "code",
   "execution_count": null,
   "metadata": {},
   "outputs": [],
   "source": [
    "# Define the parameter values for the inflow and yield parameters:\n",
    "ParameterDict = {}\n",
    "\n",
    "ParameterDict['Inflow'] = msc.Parameter(Name='Final IGU consumption',\n",
    "                                        ID=1, P_Res=1,\n",
    "                                        MetaData=None, Indices='r,t',\n",
    "                                        Values=InflowArray, Unit='10^6 m²/yr')\n",
    "\n",
    "ParameterDict['tau'] = msc.Parameter(Name='mean product lifetime',\n",
    "                                     ID=2, P_Res=1,\n",
    "                                     MetaData=None, Indices='r',\n",
    "                                     Values=Lifetimes, Unit='yr')\n",
    "ParameterDict['sigma'] = msc.Parameter(Name='stddev of mean product lifetime',\n",
    "                                       ID=3, P_Res=1,\n",
    "                                       MetaData=None, Indices='r',\n",
    "                                       Values=[0.3 * i for i in Lifetimes],\n",
    "                                       Unit='yr')\n",
    "\n",
    "# Assign parameter dictionary to MFA system:\n",
    "Dyn_MFA_System.ParameterDict = ParameterDict"
   ]
  },
  {
   "cell_type": "code",
   "execution_count": null,
   "metadata": {},
   "outputs": [],
   "source": [
    "# Define the flows of the system, and initialise their values:\n",
    "Dyn_MFA_System.FlowDict['F_0_1'] = msc.Flow(Name='final consumption',\n",
    "                                            P_Start=0, P_End=1,\n",
    "                                            Indices='t,r,e', Values=None)\n",
    "\n",
    "Dyn_MFA_System.FlowDict['F_1_0'] = msc.Flow(Name='Eol products',\n",
    "                                            P_Start=1, P_End=0,\n",
    "                                            Indices='t,c,r,e', Values=None)\n",
    "\n",
    "Dyn_MFA_System.StockDict['S_1'] = msc.Stock(Name='IGU stock',\n",
    "                                            P_Res=1, Type=0,\n",
    "                                            Indices='t,c,r,e', Values=None)\n",
    "\n",
    "Dyn_MFA_System.StockDict['dS_1'] = msc.Stock(Name='IGU stock change',\n",
    "                                             P_Res=1, Type=1,\n",
    "                                             Indices='t,r,e', Values=None)"
   ]
  },
  {
   "cell_type": "code",
   "execution_count": null,
   "metadata": {},
   "outputs": [],
   "source": [
    "# Assign empty arrays to flows according to dimensions.\n",
    "Dyn_MFA_System.Initialize_FlowValues()\n",
    "\n",
    "# Assign empty arrays to flows according to dimensions.\n",
    "Dyn_MFA_System.Initialize_StockValues()"
   ]
  },
  {
   "cell_type": "code",
   "execution_count": null,
   "metadata": {},
   "outputs": [],
   "source": [
    "# Check whether flow value arrays match their indices, etc.\n",
    "# See method documentation.\n",
    "Dyn_MFA_System.Consistency_Check()"
   ]
  },
  {
   "cell_type": "markdown",
   "metadata": {},
   "source": [
    "## Programming a solution of the MFA system"
   ]
  },
  {
   "cell_type": "markdown",
   "metadata": {},
   "source": [
    "Program the model solution, making use of the dynamic_stock_model methods.\n",
    "See: https://github.com/stefanpauliuk/dynamic_stock_model"
   ]
  },
  {
   "cell_type": "code",
   "execution_count": null,
   "metadata": {},
   "outputs": [],
   "source": [
    "# Fit model parameter 'Inflow' to right shape in FlowDict:\n",
    "Dyn_MFA_System.FlowDict['F_0_1'].Values[:, :, 0] = (\n",
    "    Dyn_MFA_System.ParameterDict['Inflow'].Values.transpose())"
   ]
  },
  {
   "cell_type": "code",
   "execution_count": null,
   "metadata": {},
   "outputs": [],
   "source": [
    "# Loop over all regions to determine inflow-driven stock:\n",
    "for region in np.arange(0, len(MyRegions)):\n",
    "    # Create helper DSM for computing the dynamic stock model:\n",
    "    DSM_Inflow = (\n",
    "        dsm.DynamicStockModel(\n",
    "            t=np.array(MyYears),\n",
    "            i=Dyn_MFA_System.ParameterDict['Inflow'].Values[region, :],\n",
    "            lt={'Type': 'Normal',\n",
    "                'Mean': [Dyn_MFA_System.ParameterDict['tau'].Values[region]],\n",
    "                'StdDev': [Dyn_MFA_System.ParameterDict['sigma']\n",
    "                           .Values[region]]})\n",
    "    )\n",
    "\n",
    "    Stock_by_cohort = DSM_Inflow.compute_s_c_inflow_driven()\n",
    "    O_C = DSM_Inflow.compute_o_c_from_s_c()\n",
    "    S = DSM_Inflow.compute_stock_total()\n",
    "    DS = DSM_Inflow.compute_stock_change()\n",
    "\n",
    "    Dyn_MFA_System.FlowDict['F_1_0'].Values[:, :, region, 0] = O_C\n",
    "    Dyn_MFA_System.StockDict['dS_1'].Values[:, region, 0] = DS\n",
    "    Dyn_MFA_System.StockDict['S_1'].Values[:, :, region, 0] = Stock_by_cohort"
   ]
  },
  {
   "cell_type": "markdown",
   "metadata": {},
   "source": [
    "## Mass-balance-check"
   ]
  },
  {
   "cell_type": "code",
   "execution_count": null,
   "metadata": {},
   "outputs": [],
   "source": [
    "Bal = Dyn_MFA_System.MassBalance()\n",
    "# dimensions of balance are: time step x process x chemical element\n",
    "print(Bal.shape)\n",
    "\n",
    "# reports the sum of all absolute balancing errors by process.\n",
    "print(np.abs(Bal).sum(axis=0))"
   ]
  },
  {
   "cell_type": "markdown",
   "metadata": {},
   "source": [
    "## Results"
   ]
  },
  {
   "cell_type": "code",
   "execution_count": null,
   "metadata": {},
   "outputs": [],
   "source": [
    "# select colors from the 'Paired' color map.\n",
    "MyColorCycle = pylab.cm.Paired(np.arange(0, 1, 0.3))\n",
    "\n",
    "fig, ax = plt.subplots()\n",
    "\n",
    "for m in range(0, len(MyRegions)):\n",
    "    ax.plot(Dyn_MFA_System.IndexTable['Classification']['Time'].Items,\n",
    "            Dyn_MFA_System.FlowDict['F_0_1'].Values[:, m, 0],\n",
    "            color=MyColorCycle[m, :])\n",
    "\n",
    "ax.set_ylabel('Inflows of IGU, 10^6 m²', fontsize=16)\n",
    "ax.legend(MyRegions, loc='upper left', prop={'size': 10})"
   ]
  },
  {
   "cell_type": "markdown",
   "metadata": {},
   "source": [
    "Plot the IGU stock in the different regions over time:"
   ]
  },
  {
   "cell_type": "code",
   "execution_count": null,
   "metadata": {},
   "outputs": [],
   "source": [
    "# select colors from the 'Paired' color map.\n",
    "MyColorCycle = pylab.cm.Paired(np.arange(0, 1, 0.3))\n",
    "\n",
    "fig, ax = plt.subplots()\n",
    "\n",
    "for m in range(0, len(MyRegions)):\n",
    "    ax.plot(Dyn_MFA_System.IndexTable['Classification']['Time'].Items,\n",
    "            Dyn_MFA_System.StockDict['S_1'].Values[:, :, m, 0].sum(axis=1),\n",
    "            color=MyColorCycle[m, :])\n",
    "\n",
    "ax.set_ylabel('In-use stocks of IGU, 10^6 m²', fontsize=16)\n",
    "ax.legend(MyRegions, loc='upper left', prop={'size': 10})"
   ]
  },
  {
   "cell_type": "markdown",
   "metadata": {},
   "source": [
    "Plot the ratio of outflow over inflow, which is a measure of the stationarity of a stock, and can be interpreted as one indicator for a 'circular economy':"
   ]
  },
  {
   "cell_type": "code",
   "execution_count": null,
   "metadata": {},
   "outputs": [],
   "source": [
    "FlowRatio = Dyn_MFA_System.FlowDict['F_1_0'].Values[:, :, :, 0].sum(axis=1) \\\n",
    "    / Dyn_MFA_System.FlowDict['F_0_1'].Values[:, :, 0]\n",
    "\n",
    "# Set all ratios where reference flow F_0_1 was zero to zero, not nan.\n",
    "FlowRatio[np.isnan(FlowRatio)] = 0\n",
    "\n",
    "fig, ax = plt.subplots()\n",
    "for m in range(0, len(MyRegions)):\n",
    "    ax.plot(Dyn_MFA_System.IndexTable['Classification']['Time'].Items,\n",
    "            FlowRatio[:, m] * 100, color=MyColorCycle[m, :])\n",
    "\n",
    "ax.plot([1945, 2020], [100, 100], color='k', linestyle='--')\n",
    "\n",
    "ax.set_ylabel('In-use stocks of IGU, 10^6 m²,', fontsize=16)\n",
    "ax.legend(MyRegions, loc='upper left', prop={'size': 8})"
   ]
  },
  {
   "cell_type": "markdown",
   "metadata": {},
   "source": [
    "# Estimating the material content of the IGU stocks"
   ]
  },
  {
   "cell_type": "markdown",
   "metadata": {},
   "source": [
    "See: docs/ \"ODYM Example and Tutorial No. 5. MaterialContent_VehicleFleet\"\n",
    "\n",
    "Key question here: How big is the material stock currently embodied in the European/Belgian/French stock IGUs, and when will this material become available for recycling (or landfilling...)?"
   ]
  },
  {
   "cell_type": "markdown",
   "metadata": {},
   "source": [
    "<font color='red'> The Excels files are all located in the folder: docs/Files/\"_ODYM_***.xlsx\". </font >"
   ]
  },
  {
   "cell_type": "code",
   "execution_count": null,
   "metadata": {},
   "outputs": [],
   "source": [
    "# Initialize loggin routine\n",
    "log_verbosity = eval(\"log.DEBUG\")\n",
    "log_filename = 'LogFileTest.md'\n",
    "[Mylog, console_log, file_log] = msf.function_logger(log_filename, os.getcwd(),\n",
    "                                                     log_verbosity, log_verbosity)\n",
    "Mylog.info('### 1. - Initialize.')"
   ]
  },
  {
   "cell_type": "markdown",
   "metadata": {},
   "source": [
    "## Export data to csv"
   ]
  },
  {
   "cell_type": "markdown",
   "metadata": {},
   "source": [
    "<font color='red'>Dataframe for IGU consumption in [kt]:</font>"
   ]
  },
  {
   "cell_type": "code",
   "execution_count": null,
   "metadata": {},
   "outputs": [],
   "source": [
    "igu_use_kt = (pd.DataFrame({'Year': list(np.arange(1945, 2021))})\n",
    "              .set_index('Year'))"
   ]
  },
  {
   "cell_type": "code",
   "execution_count": null,
   "metadata": {},
   "outputs": [],
   "source": [
    "igu_use_kt['EU'] = (eu_igu.droplevel(level=0)['Estimated consumption']\n",
    "                    .drop(axis=1, columns='[10^6 m²]').reset_index()\n",
    "                    .drop_duplicates(subset=['year'], keep='last')\n",
    "                    .set_index('year'))"
   ]
  },
  {
   "cell_type": "code",
   "execution_count": null,
   "metadata": {},
   "outputs": [],
   "source": [
    "igu_use_kt['BE'] = be_fr_igu[('Estimated consumption',\n",
    "                              '[kt]', 'Belgium')]"
   ]
  },
  {
   "cell_type": "code",
   "execution_count": null,
   "metadata": {},
   "outputs": [],
   "source": [
    "igu_use_kt['FR'] = be_fr_igu[('Estimated consumption',\n",
    "                              '[kt]', 'France')]"
   ]
  },
  {
   "cell_type": "code",
   "execution_count": null,
   "metadata": {},
   "outputs": [],
   "source": [
    "igu_use_kt['Unit'] = '[kt]'"
   ]
  },
  {
   "cell_type": "markdown",
   "metadata": {},
   "source": [
    "To copy paste in \"_ODYM_IGU_EstimatedConsumption\" Excel file, because for the moment I do not see a better method..."
   ]
  },
  {
   "cell_type": "code",
   "execution_count": null,
   "metadata": {},
   "outputs": [],
   "source": [
    "igu_use_kt.interpolate().to_csv('IGU_EstimatedConsumption.csv')"
   ]
  },
  {
   "cell_type": "markdown",
   "metadata": {},
   "source": [
    "##  Load Config file and read model control parameters"
   ]
  },
  {
   "cell_type": "code",
   "execution_count": null,
   "metadata": {},
   "outputs": [],
   "source": [
    "Mylog.info('### 2 - Load Config file and read model control parameters')\n",
    "\n",
    "# Read main script parameters\n",
    "# Load project-specific config file:\n",
    "ProjectSpecs_Name_ConFile = '_ODYM_Config_IGU.xlsx'\n",
    "Model_Configfile = xlrd.open_workbook(os.path.join(DataPath,\n",
    "                                                   ProjectSpecs_Name_ConFile))\n",
    "\n",
    "ScriptConfig = (\n",
    "    {'Model Setting': (Model_Configfile.sheet_by_name('Config')\n",
    "                       .cell_value(3, 3))}\n",
    ")\n",
    "\n",
    "Model_Configsheet = (\n",
    "    Model_Configfile.sheet_by_name('Setting_' + ScriptConfig['Model Setting'])\n",
    "\n",
    "Name_Scenario=Model_Configsheet.cell_value(3, 3)\n",
    "print(Name_Scenario)"
   ]
  },
  {
   "cell_type": "code",
   "execution_count": null,
   "metadata": {},
   "outputs": [],
   "source": [
    "# Read model control parameters\n",
    "# Read control and selection parameters into dictionary\n",
    "SCix = 0\n",
    "# search for script config list entry\n",
    "while Model_Configsheet.cell_value(SCix, 1) != 'General Info':\n",
    "    SCix += 1\n",
    "\n",
    "SCix += 2  # start on first data row\n",
    "while len(Model_Configsheet.cell_value(SCix, 3)) > 0:\n",
    "    ScriptConfig[Model_Configsheet.cell_value(SCix, 2)] = (\n",
    "        Model_Configsheet.cell_value(SCix, 3)\n",
    "    )\n",
    "    SCix += 1\n",
    "\n",
    "SCix = 0\n",
    "# search for script config list entry\n",
    "while Model_Configsheet.cell_value(SCix, 1) != 'Software version selection':\n",
    "    SCix += 1\n",
    "\n",
    "SCix += 2  # start on first data row\n",
    "while len(Model_Configsheet.cell_value(SCix, 3)) > 0:\n",
    "    ScriptConfig[Model_Configsheet.cell_value(SCix, 2)] = (\n",
    "        Model_Configsheet.cell_value(SCix, 3)\n",
    "    )\n",
    "    SCix += 1\n",
    "\n",
    "print(ScriptConfig)"
   ]
  },
  {
   "cell_type": "markdown",
   "metadata": {},
   "source": [
    " ## Read classification and data"
   ]
  },
  {
   "cell_type": "code",
   "execution_count": null,
   "metadata": {},
   "outputs": [],
   "source": [
    "Mylog.info('### 3 - Read classification and data')\n",
    "# This is standard for each ODYM model run.\n",
    "\n",
    "# Read model run config data\n",
    "Classfile = xlrd.open_workbook(\n",
    "    os.path.join(DataPath,\n",
    "                 str(ScriptConfig['Version of master classification'])\n",
    "                 + '.xlsx'))\n",
    "\n",
    "Classsheet = Classfile.sheet_by_name('MAIN_Table')\n",
    "ci = 1  # column index to start with\n",
    "MasterClassification = {}  # Dict of master classifications\n",
    "while True:\n",
    "    TheseItems = []\n",
    "    ri = 10  # row index to start with\n",
    "    try:\n",
    "        ThisName = Classsheet.cell_value(0, ci)\n",
    "        ThisDim = Classsheet.cell_value(1, ci)\n",
    "        ThisID = Classsheet.cell_value(3, ci)\n",
    "        ThisUUID = Classsheet.cell_value(4, ci)\n",
    "        # read the first classification item\n",
    "        TheseItems.append(Classsheet.cell_value(ri, ci))\n",
    "    except:\n",
    "        print('End of file or formatting error while reading the classification file in column ' + str(ci) + '.')\n",
    "        break\n",
    "    while True:\n",
    "        ri += 1\n",
    "        try:\n",
    "            ThisItem = Classsheet.cell_value(ri, ci)\n",
    "        except:\n",
    "            break\n",
    "        if ThisItem is not '':\n",
    "            TheseItems.append(ThisItem)\n",
    "    MasterClassification[ThisName] = (\n",
    "        msc.Classification(Name=ThisName, Dimension=ThisDim,\n",
    "                           ID=ThisID, UUID=ThisUUID, Items=TheseItems))\n",
    "    ci += 1\n",
    "\n",
    "print('Read index table from model config sheet.')\n",
    "ITix = 0\n",
    "while True:  # search for index table entry\n",
    "    if Model_Configsheet.cell_value(ITix, 1) == 'Index Table':\n",
    "        break\n",
    "    else:\n",
    "        ITix += 1\n",
    "\n",
    "IT_Aspects = []\n",
    "IT_Description = []\n",
    "IT_Dimension = []\n",
    "IT_Classification = []\n",
    "IT_Selector = []\n",
    "IT_IndexLetter = []\n",
    "ITix += 2  # start on first data row\n",
    "while True:\n",
    "    if len(Model_Configsheet.cell_value(ITix, 2)) > 0:\n",
    "        IT_Aspects.append(Model_Configsheet.cell_value(ITix, 2))\n",
    "        IT_Description.append(Model_Configsheet.cell_value(ITix, 3))\n",
    "        IT_Dimension.append(Model_Configsheet.cell_value(ITix, 4))\n",
    "        IT_Classification.append(Model_Configsheet.cell_value(ITix, 5))\n",
    "        IT_Selector.append(Model_Configsheet.cell_value(ITix, 6))\n",
    "        IT_IndexLetter.append(Model_Configsheet.cell_value(ITix, 7))\n",
    "        ITix += 1\n",
    "    else:\n",
    "        break\n",
    "\n",
    "print('Read parameter list from model config sheet.')\n",
    "PLix = 0\n",
    "while True:  # search for parameter list entry\n",
    "    if Model_Configsheet.cell_value(PLix, 1) == 'Model Parameters':\n",
    "        break\n",
    "    else:\n",
    "        PLix += 1\n",
    "\n",
    "PL_Names = []\n",
    "PL_Description = []\n",
    "PL_Version = []\n",
    "PL_IndexStructure = []\n",
    "PL_IndexMatch = []\n",
    "PL_IndexLayer = []\n",
    "PLix += 2  # start on first data row\n",
    "while True:\n",
    "    if len(Model_Configsheet.cell_value(PLix, 2)) > 0:\n",
    "        PL_Names.append(Model_Configsheet.cell_value(PLix, 2))\n",
    "        PL_Description.append(Model_Configsheet.cell_value(PLix, 3))\n",
    "        PL_Version.append(Model_Configsheet.cell_value(PLix, 4))\n",
    "        PL_IndexStructure.append(Model_Configsheet.cell_value(PLix, 5))\n",
    "        PL_IndexMatch.append(Model_Configsheet.cell_value(PLix, 6))\n",
    "        # strip numbers out of list string\n",
    "        PL_IndexLayer.append(msf.ListStringToListNumbers(\n",
    "            Model_Configsheet.cell_value(PLix, 7)))\n",
    "        PLix += 1\n",
    "    else:\n",
    "        break\n",
    "\n",
    "print('Read process list from model config sheet.')\n",
    "PrLix = 0\n",
    "while True:  # search for process list entry\n",
    "    if Model_Configsheet.cell_value(PrLix, 1) == 'Process Group List':\n",
    "        break\n",
    "    else:\n",
    "        PrLix += 1\n",
    "\n",
    "PrL_Number = []\n",
    "PrL_Name = []\n",
    "PrL_Code = []\n",
    "PrL_Type = []\n",
    "PrLix += 2  # start on first data row\n",
    "while True:\n",
    "    if Model_Configsheet.cell_value(PrLix, 2) != '':\n",
    "        try:\n",
    "            PrL_Number.append(int(Model_Configsheet.cell_value(PrLix, 2)))\n",
    "        except:\n",
    "            PrL_Number.append(Model_Configsheet.cell_value(PrLix, 2))\n",
    "        PrL_Name.append(Model_Configsheet.cell_value(PrLix, 3))\n",
    "        PrL_Code.append(Model_Configsheet.cell_value(PrLix, 4))\n",
    "        PrL_Type.append(Model_Configsheet.cell_value(PrLix, 5))\n",
    "        PrLix += 1\n",
    "    else:\n",
    "        break\n",
    "\n",
    "print('Read model run control from model config sheet.')\n",
    "PrLix = 0\n",
    "while True:  # search for model flow control entry\n",
    "    if Model_Configsheet.cell_value(PrLix, 1) == 'Model flow control':\n",
    "        break\n",
    "    else:\n",
    "        PrLix += 1\n",
    "\n",
    "PrLix += 2  # start on first data row\n",
    "while True:\n",
    "    if Model_Configsheet.cell_value(PrLix, 2) != '':\n",
    "        try:\n",
    "            ScriptConfig[Model_Configsheet.cell_value(PrLix, 2)] = (\n",
    "                Model_Configsheet.cell_value(PrLix, 3))\n",
    "        except:\n",
    "            None\n",
    "        PrLix += 1\n",
    "    else:\n",
    "        break"
   ]
  },
  {
   "cell_type": "code",
   "execution_count": null,
   "metadata": {},
   "outputs": [],
   "source": [
    "print('Define model classifications and select items for model classifications according to information provided by config file.')\n",
    "\n",
    "# Dict of model classifications\n",
    "ModelClassification = {}\n",
    "\n",
    "for m in range(0, len(IT_Aspects)):\n",
    "    ModelClassification[IT_Aspects[m]] = deepcopy(\n",
    "        MasterClassification[IT_Classification[m]])\n",
    "    EvalString = msf.EvalItemSelectString(\n",
    "        IT_Selector[m], len(ModelClassification[IT_Aspects[m]].Items))\n",
    "\n",
    "    if EvalString.find(':') > -1:  # range of items is taken\n",
    "        RangeStart = int(EvalString[0:EvalString.find(':')])\n",
    "        RangeStop = int(EvalString[EvalString.find(':')+1::])\n",
    "        ModelClassification[IT_Aspects[m]].Items = (\n",
    "            ModelClassification[IT_Aspects[m]].Items[RangeStart:RangeStop])\n",
    "\n",
    "    elif EvalString.find('[') > -1:  # selected items are taken\n",
    "        ModelClassification[IT_Aspects[m]].Items = (\n",
    "            [ModelClassification[IT_Aspects[m]].Items[i]\n",
    "                for i in eval(EvalString)])\n",
    "\n",
    "    elif EvalString == 'all':\n",
    "        None\n",
    "    else:\n",
    "        Mylog.info('ITEM SELECT ERROR for aspect ' +\n",
    "                   IT_Aspects[m] + ' were found in datafile.</br>')\n",
    "        break"
   ]
  },
  {
   "cell_type": "markdown",
   "metadata": {},
   "source": [
    "The following code block creates the index table for the MFA system and parses all parameter files specified into the parameter dictionary ParameterDict."
   ]
  },
  {
   "cell_type": "code",
   "execution_count": null,
   "metadata": {},
   "outputs": [],
   "source": [
    "# Define model index table and parameter dictionary\n",
    "Model_Time_Start = int(min(ModelClassification['Time'].Items))\n",
    "Model_Time_End = int(max(ModelClassification['Time'].Items))\n",
    "Model_Duration = Model_Time_End - Model_Time_Start\n",
    "\n",
    "Model_Duration"
   ]
  },
  {
   "cell_type": "code",
   "execution_count": null,
   "metadata": {},
   "outputs": [],
   "source": [
    "print('Define index table dataframe.')\n",
    "\n",
    "IndexTable = pd.DataFrame(\n",
    "    {'Aspect': IT_Aspects,\n",
    "     # 'Time' and 'Element' must be present!\n",
    "     'Description': IT_Description,\n",
    "     'Dimension': IT_Dimension,\n",
    "     'Classification': [ModelClassification[Aspect] for Aspect in IT_Aspects],\n",
    "     # Unique one letter (upper or lower case) indices\n",
    "     # to be used later for calculations.\n",
    "     'IndexLetter': IT_IndexLetter}\n",
    ")\n",
    "\n",
    "# Default indexing of IndexTable, other indices are produced on the fly\n",
    "IndexTable.set_index('Aspect', inplace=True)"
   ]
  },
  {
   "cell_type": "code",
   "execution_count": null,
   "metadata": {},
   "outputs": [],
   "source": [
    "# Add indexSize to IndexTable:\n",
    "IndexTable['IndexSize'] = (\n",
    "    pd.Series(\n",
    "        [len(IndexTable.Classification[i].Items) for i in range(\n",
    "            0, len(IndexTable.IndexLetter)\n",
    "        )], index=IndexTable.index)\n",
    ")\n",
    "\n",
    "# list of the classifications used for each indexletter\n",
    "IndexTable_ClassificationNames = (\n",
    "    [IndexTable.Classification[i].Name for i in range(0, len(IndexTable.IndexLetter))])"
   ]
  },
  {
   "cell_type": "code",
   "execution_count": null,
   "metadata": {},
   "outputs": [],
   "source": [
    "# Define shortcuts for the most important index sizes:\n",
    "Nt = len(IndexTable.Classification[IndexTable.index.get_loc('Time')].Items)\n",
    "\n",
    "NR = len(IndexTable.Classification[IndexTable.set_index(\n",
    "    'IndexLetter').index.get_loc('r')].Items)\n",
    "\n",
    "NG = len(IndexTable.Classification[IndexTable.set_index(\n",
    "    'IndexLetter').index.get_loc('g')].Items)\n",
    "\n",
    "NM = len(IndexTable.Classification[IndexTable.set_index(\n",
    "    'IndexLetter').index.get_loc('m')].Items)\n",
    "print('Read model data and parameters.')"
   ]
  },
  {
   "cell_type": "code",
   "execution_count": null,
   "metadata": {},
   "outputs": [],
   "source": [
    "ParameterDict = {}\n",
    "for mo in range(0, len(PL_Names)):\n",
    "    ParPath = os.path.join(DataPath, PL_Version[mo])\n",
    "    print('Reading parameter ' + PL_Names[mo])\n",
    "    # Do not change order of parameters handed over to function!\n",
    "    MetaData, Values, Uncertainty = (\n",
    "        msf.ReadParameterV2(ParPath, PL_Names[mo], PL_IndexStructure[mo],\n",
    "                            PL_IndexMatch[mo], PL_IndexLayer[mo],\n",
    "                            MasterClassification, IndexTable,\n",
    "                            IndexTable_ClassificationNames,\n",
    "                            ScriptConfig, Mylog, ParseUncertainty=True)\n",
    "    )\n",
    "\n",
    "    ParameterDict[PL_Names[mo]] = (\n",
    "        msc.Parameter(Name=MetaData['Dataset_Name'],\n",
    "                      ID=MetaData['Dataset_ID'],\n",
    "                      UUID=MetaData['Dataset_UUID'],\n",
    "                      P_Res=None,\n",
    "                      MetaData=MetaData,\n",
    "                      Indices=PL_IndexStructure[mo],\n",
    "                      Values=Values,\n",
    "                      Uncert=Uncertainty,\n",
    "                      Unit=MetaData['Dataset_Unit'])\n",
    "    )"
   ]
  },
  {
   "cell_type": "code",
   "execution_count": null,
   "metadata": {},
   "outputs": [],
   "source": [
    "# Replicate lifetime, given for 2020 age-cohort, for all age-cohorts\n",
    "ParameterDict['_ODYM_IGULifetime'].Values[0, 0, :, :] = (\n",
    "    np.einsum('r,c->rc', ParameterDict['_ODYM_IGULifetime']\n",
    "              .Values[0, 0, :, 20], np.ones(Nt)))\n",
    "\n",
    "# Replicate uncertainty\n",
    "for m in range(0, NR):\n",
    "    for n in range(0, Nt):\n",
    "        ParameterDict['_ODYM_IGULifetime'].Uncert[m*Nt + n] = (\n",
    "            ParameterDict['_ODYM_IGULifetime'].Uncert[m*Nt+20])"
   ]
  },
  {
   "cell_type": "code",
   "execution_count": null,
   "metadata": {},
   "outputs": [],
   "source": [
    "# Replicate IGU material content for all countries and age-cohorts:\n",
    "ParameterDict['_ODYM_IGUMaterialContent'].Values[:, 0, :, :] = (\n",
    "    np.einsum('m,rc->mrc', ParameterDict['_ODYM_IGUMaterialContent']\n",
    "              .Values[:, 0, 0, 20], np.ones((NR, Nt)))\n",
    ")\n",
    "\n",
    "# Replicate uncertainty:\n",
    "for m in range(0, NM):\n",
    "    for r in range(0, NR):\n",
    "        for t in range(0, Nt):\n",
    "            (ParameterDict['_ODYM_IGUMaterialContent']\n",
    "             .Uncert[m*Nt*NR + r*Nt + t]) = (\n",
    "                ParameterDict['_ODYM_IGUMaterialContent']\n",
    "                .Uncert[m*Nt*NR + 20])"
   ]
  },
  {
   "cell_type": "markdown",
   "metadata": {},
   "source": [
    "## Define MFA system"
   ]
  },
  {
   "cell_type": "code",
   "execution_count": null,
   "metadata": {},
   "outputs": [],
   "source": [
    "Mylog.info('### 4 - Define MFA system')\n",
    "print('Define MFA system and processes.')\n",
    "\n",
    "# Initialize MFA system\n",
    "IGU_MFA_System = msc.MFAsystem(Name='Materials_IGU',\n",
    "                               Geogr_Scope='Europe',\n",
    "                               Unit='kt',\n",
    "                               ProcessList=[],\n",
    "                               FlowDict={},\n",
    "                               StockDict={},\n",
    "                               ParameterDict=ParameterDict,\n",
    "                               Time_Start=Model_Time_Start,\n",
    "                               Time_End=Model_Time_End,\n",
    "                               IndexTable=IndexTable,\n",
    "                               Elements=(IndexTable.loc['Element']\n",
    "                                         .Classification.Items),\n",
    "                               Graphical=None)\n",
    "\n",
    "# Check Validity of index tables:\n",
    "# returns true if dimensions are OK and time index is present and element list is not empty\n",
    "IGU_MFA_System.IndexTableCheck()"
   ]
  },
  {
   "cell_type": "code",
   "execution_count": null,
   "metadata": {},
   "outputs": [],
   "source": [
    "# Add processes to system\n",
    "for m in range(0, len(PrL_Number)):\n",
    "    IGU_MFA_System.ProcessList.append(\n",
    "        msc.Process(Name=PrL_Name[m], ID=PrL_Number[m]))"
   ]
  },
  {
   "cell_type": "code",
   "execution_count": null,
   "metadata": {},
   "outputs": [],
   "source": [
    "# Define system variables: 6 flows.\n",
    "IGU_MFA_System.FlowDict['F_0_1'] = msc.Flow(Name='IGU production',\n",
    "                                            P_Start=0,\n",
    "                                            P_End=1,\n",
    "                                            Indices='t,g,m,e',\n",
    "                                            Values=None, Uncert=None,\n",
    "                                            Color=None,\n",
    "                                            ID=None, UUID=None)\n",
    "\n",
    "IGU_MFA_System.FlowDict['F_1_2'] = msc.Flow(Name='IGU consumption',\n",
    "                                            P_Start=1,\n",
    "                                            P_End=2, Indices='t,g,r,m,e',\n",
    "                                            Values=None, Uncert=None,\n",
    "                                            Color=None,\n",
    "                                            ID=None, UUID=None)\n",
    "\n",
    "IGU_MFA_System.FlowDict['F_2_3'] = msc.Flow(Name='Scrapping of IGU',\n",
    "                                            P_Start=2,\n",
    "                                            P_End=3, Indices='t,c,g,r,m,e',\n",
    "                                            Values=None, Uncert=None,\n",
    "                                            Color=None,\n",
    "                                            ID=None, UUID=None)\n",
    "\n",
    "IGU_MFA_System.FlowDict['F_3_4'] = msc.Flow(Name='IGU scrap',\n",
    "                                            P_Start=3,\n",
    "                                            P_End=4, Indices='t,w,m,e',\n",
    "                                            Values=None, Uncert=None,\n",
    "                                            Color=None,\n",
    "                                            ID=None, UUID=None)\n",
    "\n",
    "IGU_MFA_System.FlowDict['F_3_0'] = msc.Flow(Name='Recovery losses',\n",
    "                                            P_Start=3,\n",
    "                                            P_End=0, Indices='t,m,e',\n",
    "                                            Values=None, Uncert=None,\n",
    "                                            Color=None,\n",
    "                                            ID=None, UUID=None)\n",
    "\n",
    "IGU_MFA_System.FlowDict['F_4_0'] = msc.Flow(Name='IGU scrap supply',\n",
    "                                            P_Start=4,\n",
    "                                            P_End=0, Indices='t,w,m,e',\n",
    "                                            Values=None, Uncert=None,\n",
    "                                            Color=None,\n",
    "                                            ID=None, UUID=None)"
   ]
  },
  {
   "cell_type": "code",
   "execution_count": null,
   "metadata": {},
   "outputs": [],
   "source": [
    "# Define system variables: 1 stock and 1 stock change:\n",
    "IGU_MFA_System.StockDict['S_2'] = msc.Stock(Name='In-use stock',\n",
    "                                            P_Res=2, Type=0,\n",
    "                                            Indices='t,c,g,r,m,e',\n",
    "                                            Values=None, Uncert=None,\n",
    "                                            ID=None, UUID=None)\n",
    "\n",
    "IGU_MFA_System.StockDict['dS_2'] = msc.Stock(Name='Net in-use stock change',\n",
    "                                             P_Res=2, Type=1,\n",
    "                                             Indices='t,g,r,m,e',\n",
    "                                             Values=None, Uncert=None,\n",
    "                                             ID=None, UUID=None)"
   ]
  },
  {
   "cell_type": "code",
   "execution_count": null,
   "metadata": {},
   "outputs": [],
   "source": [
    "# Assign empty arrays to stocks according to dimensions.\n",
    "IGU_MFA_System.Initialize_StockValues()\n",
    "\n",
    "# Assign empty arrays to flows according to dimensions.\n",
    "IGU_MFA_System.Initialize_FlowValues()"
   ]
  },
  {
   "cell_type": "code",
   "execution_count": null,
   "metadata": {},
   "outputs": [],
   "source": [
    "IGU_MFA_System.IndexTable"
   ]
  },
  {
   "cell_type": "code",
   "execution_count": null,
   "metadata": {},
   "outputs": [],
   "source": [
    "IGU_MFA_System.ParameterDict"
   ]
  },
  {
   "cell_type": "code",
   "execution_count": null,
   "metadata": {},
   "outputs": [],
   "source": [
    "print(IGU_MFA_System.ProcessList)\n",
    "print([i.Name for i in IGU_MFA_System.ProcessList])\n",
    "print([i.ID for i in IGU_MFA_System.ProcessList])"
   ]
  },
  {
   "cell_type": "code",
   "execution_count": null,
   "metadata": {},
   "outputs": [],
   "source": []
  },
  {
   "cell_type": "code",
   "execution_count": null,
   "metadata": {},
   "outputs": [],
   "source": []
  },
  {
   "cell_type": "code",
   "execution_count": null,
   "metadata": {},
   "outputs": [],
   "source": []
  },
  {
   "cell_type": "code",
   "execution_count": null,
   "metadata": {},
   "outputs": [],
   "source": []
  },
  {
   "cell_type": "code",
   "execution_count": null,
   "metadata": {},
   "outputs": [],
   "source": []
  }
 ],
 "metadata": {
  "kernelspec": {
   "display_name": "Python 3",
   "language": "python",
   "name": "python3"
  },
  "language_info": {
   "codemirror_mode": {
    "name": "ipython",
    "version": 3
   },
   "file_extension": ".py",
   "mimetype": "text/x-python",
   "name": "python",
   "nbconvert_exporter": "python",
   "pygments_lexer": "ipython3",
   "version": "3.9.4"
  },
  "toc": {
   "base_numbering": 1,
   "nav_menu": {},
   "number_sections": true,
   "sideBar": true,
   "skip_h1_title": false,
   "title_cell": "Table of Contents",
   "title_sidebar": "Contents",
   "toc_cell": false,
   "toc_position": {
    "height": "calc(100% - 180px)",
    "left": "10px",
    "top": "150px",
    "width": "165px"
   },
   "toc_section_display": true,
   "toc_window_display": true
  },
  "varInspector": {
   "cols": {
    "lenName": 16,
    "lenType": 16,
    "lenVar": 40
   },
   "kernels_config": {
    "python": {
     "delete_cmd_postfix": "",
     "delete_cmd_prefix": "del ",
     "library": "var_list.py",
     "varRefreshCmd": "print(var_dic_list())"
    },
    "r": {
     "delete_cmd_postfix": ") ",
     "delete_cmd_prefix": "rm(",
     "library": "var_list.r",
     "varRefreshCmd": "cat(var_dic_list()) "
    }
   },
   "position": {
    "height": "632.85px",
    "left": "482px",
    "right": "20px",
    "top": "253px",
    "width": "463px"
   },
   "types_to_exclude": [
    "module",
    "function",
    "builtin_function_or_method",
    "instance",
    "_Feature"
   ],
   "window_display": false
  }
 },
 "nbformat": 4,
 "nbformat_minor": 4
}
